{
  "nbformat": 4,
  "nbformat_minor": 0,
  "metadata": {
    "colab": {
      "provenance": []
    },
    "kernelspec": {
      "name": "python3",
      "display_name": "Python 3"
    },
    "language_info": {
      "name": "python"
    }
  },
  "cells": [
    {
      "cell_type": "code",
      "execution_count": null,
      "metadata": {
        "id": "jRqPf67Vsssk"
      },
      "outputs": [],
      "source": [
        "# Python OOPs\n",
        "# Python Object Oriented Programming\n",
        "\n",
        "# Using list- creating student records"
      ]
    },
    {
      "cell_type": "code",
      "source": [
        "# Student details\n",
        "student_1 = ['Ash', 10] # Name, Grade\n",
        "student_2 = ['Akshat', 10] # Name, Grade\n",
        "student_3 = ['Madhav', 12] # Name, Grade\n",
        "student_4 = ['Pranil', 12] # Name, Grade\n"
      ],
      "metadata": {
        "id": "8nBAzlLbswxw"
      },
      "execution_count": null,
      "outputs": []
    },
    {
      "cell_type": "code",
      "source": [
        "print(student_1)"
      ],
      "metadata": {
        "colab": {
          "base_uri": "https://localhost:8080/"
        },
        "id": "iGnN882ksw0w",
        "outputId": "4d878f1b-799d-4ca1-86ab-74571241702b"
      },
      "execution_count": null,
      "outputs": [
        {
          "output_type": "stream",
          "name": "stdout",
          "text": [
            "['Ash', 10]\n"
          ]
        }
      ]
    },
    {
      "cell_type": "code",
      "source": [
        "print(student_1[1])"
      ],
      "metadata": {
        "colab": {
          "base_uri": "https://localhost:8080/"
        },
        "id": "OqX6k95jsw5O",
        "outputId": "1ed6b7e9-6268-4035-b7a2-616ea8a8e4ae"
      },
      "execution_count": null,
      "outputs": [
        {
          "output_type": "stream",
          "name": "stdout",
          "text": [
            "10\n"
          ]
        }
      ]
    },
    {
      "cell_type": "code",
      "source": [
        "print(f'{student_1[0]} is in class {student_1[1] }')"
      ],
      "metadata": {
        "colab": {
          "base_uri": "https://localhost:8080/"
        },
        "id": "9o9o1nTZsw8K",
        "outputId": "e825fc79-d6a9-4da2-aee9-f16a6caaf460"
      },
      "execution_count": null,
      "outputs": [
        {
          "output_type": "stream",
          "name": "stdout",
          "text": [
            "Ash is in class 10\n"
          ]
        }
      ]
    },
    {
      "cell_type": "code",
      "source": [
        "print(f'{student_2[0]} is in class {student_2[1] }')"
      ],
      "metadata": {
        "colab": {
          "base_uri": "https://localhost:8080/"
        },
        "id": "MLZbCVHUsw_7",
        "outputId": "b3b220fa-647b-4cd1-838f-c4f4c8f86298"
      },
      "execution_count": null,
      "outputs": [
        {
          "output_type": "stream",
          "name": "stdout",
          "text": [
            "Akshat is in class 10\n"
          ]
        }
      ]
    },
    {
      "cell_type": "code",
      "source": [
        "student_1.append('A')\n",
        "print(student_1)"
      ],
      "metadata": {
        "colab": {
          "base_uri": "https://localhost:8080/"
        },
        "id": "Bs481O2tsxCt",
        "outputId": "0607f5a0-53e1-463f-8793-2d48262e9e33"
      },
      "execution_count": null,
      "outputs": [
        {
          "output_type": "stream",
          "name": "stdout",
          "text": [
            "['Ash', 10, 'A']\n"
          ]
        }
      ]
    },
    {
      "cell_type": "code",
      "source": [
        "# Here are the limitations for the python list it treating as variable not /n\n",
        "# student data in 10th or 12th class, we are using OOPs concepts\n",
        "# OOPs gives framework"
      ],
      "metadata": {
        "id": "XqeLW3_Kv24K"
      },
      "execution_count": null,
      "outputs": []
    },
    {
      "cell_type": "code",
      "source": [
        "# Using OOPs- Creating Student records\n",
        "\n",
        "# Class- blueprint or template\n",
        "class Student:\n",
        "  pass\n",
        "\n",
        "# Object- instance of class\n",
        "student1 = Student()\n",
        "\n",
        "print(student1)\n"
      ],
      "metadata": {
        "colab": {
          "base_uri": "https://localhost:8080/"
        },
        "id": "5ihm8mwzwXzH",
        "outputId": "1de4fab0-deb5-4d85-80c1-c438b5b42f66"
      },
      "execution_count": null,
      "outputs": [
        {
          "output_type": "stream",
          "name": "stdout",
          "text": [
            "<__main__.Student object at 0x78ca02805610>\n"
          ]
        }
      ]
    },
    {
      "cell_type": "code",
      "source": [
        "# Class- blueprint or template\n",
        "# __init__ method - constructor, vale initilalize - fix\n",
        "# Self parameter- reference or connection bulid btw class and object - fix\n",
        "class Student: # Student class\n",
        "  def __init__(self, name, grade): # Function in Class (OOPs) is Method initalize\n",
        "      self.name = name # attribute\n",
        "      self.grade = grade # attribute\n",
        "\n",
        "  def student_details(self): # Method\n",
        "    print(f\"{self.name} is in class {self.grade}\")\n",
        "\n",
        "# Object- instance of class\n",
        "student1 = Student('Madhav B', 11)\n",
        "#print(student1.name, student1.grade)\n",
        "\n",
        "student2 = Student('Pranil', 10)\n",
        "#print(student2.name, student2.grade)\n",
        "\n",
        "# variable.function_name()\n",
        "student1.student_details()\n",
        "student2.student_details()\n",
        "\n"
      ],
      "metadata": {
        "colab": {
          "base_uri": "https://localhost:8080/"
        },
        "id": "6CNI6VUSwX4f",
        "outputId": "53d92cdd-2bfc-4a4c-975f-f3d993f6635a"
      },
      "execution_count": null,
      "outputs": [
        {
          "output_type": "stream",
          "name": "stdout",
          "text": [
            "Madhav B is in class 11\n",
            "Pranil is in class 10\n"
          ]
        }
      ]
    },
    {
      "cell_type": "code",
      "source": [
        "class Student: # Student class\n",
        "  def __init__(self, name, grade, percentage): # Function in Class (OOPs) is Method initalize\n",
        "      self.name = name # attribute\n",
        "      self.grade = grade # attribute\n",
        "      self.percentage= percentage # attribute\n",
        "\n",
        "  def student_details(self): # Method\n",
        "    print(f\"{self.name} is in class {self.grade}, with {self.percentage}%\")\n",
        "\n",
        "# Object- instance of class\n",
        "student1 = Student('Madhav B', 11, 96)\n",
        "#print(student1.name, student1.grade)\n",
        "\n",
        "student2 = Student('Pranil', 10, 99)\n",
        "#print(student2.name, student2.grade)\n",
        "\n",
        "\n",
        "#student1.student_details()\n",
        "#student2.student_details()\n",
        "\n",
        "print(student1.name)\n",
        "print(student1.percentage)\n"
      ],
      "metadata": {
        "colab": {
          "base_uri": "https://localhost:8080/"
        },
        "id": "YKcUIzUywX7s",
        "outputId": "9bf1afdd-4bce-4e28-a2b1-b9cf580ea0e0"
      },
      "execution_count": null,
      "outputs": [
        {
          "output_type": "stream",
          "name": "stdout",
          "text": [
            "Madhav B\n",
            "96\n"
          ]
        }
      ]
    },
    {
      "cell_type": "code",
      "source": [
        "class Student: # Student class\n",
        "  def __init__(self, name, grade, percentage): # Function in Class (OOPs) is Method initalize\n",
        "      self.name = name # attribute\n",
        "      self.grade = grade # attribute\n",
        "      self.percentage= percentage # attribute\n",
        "\n",
        "  def student_details(self): # Method\n",
        "    print(f\"{self.name} is in class {self.grade}, with {self.percentage}%\")\n",
        "\n",
        "# Object- instance of class\n",
        "student1 = Student('Madhav_B', 11, 96)\n",
        "#print(student1.name, student1.grade)\n",
        "\n",
        "student2 = Student('Pranil', 10, 99)\n",
        "#print(student2.name, student2.grade)\n",
        "\n",
        "\n",
        "#student1.student_details()\n",
        "#student2.student_details()\n",
        "\n",
        "print(student1.name)\n",
        "print(student1.percentage)\n",
        "\n",
        "\n",
        "print(student1.__dict__)\n"
      ],
      "metadata": {
        "colab": {
          "base_uri": "https://localhost:8080/"
        },
        "id": "x7HuhkyPwX-o",
        "outputId": "d298b148-8338-4d34-c75a-bd808eb4d0fe"
      },
      "execution_count": null,
      "outputs": [
        {
          "output_type": "stream",
          "name": "stdout",
          "text": [
            "Madhav B\n",
            "96\n",
            "{'name': 'Madhav B', 'grade': 11, 'percentage': 96}\n"
          ]
        }
      ]
    },
    {
      "cell_type": "code",
      "source": [
        "# Modify Object properties\n",
        "print(student1.percentage)\n",
        "student1.percentage = 78 # Modify the value\n",
        "print(student1.percentage)\n",
        "\n",
        "\n",
        "\n"
      ],
      "metadata": {
        "colab": {
          "base_uri": "https://localhost:8080/"
        },
        "id": "eyzilKXPwYBh",
        "outputId": "bce33e38-9213-4c8b-a54f-503e0fa02ae6"
      },
      "execution_count": null,
      "outputs": [
        {
          "output_type": "stream",
          "name": "stdout",
          "text": [
            "96\n",
            "78\n"
          ]
        }
      ]
    },
    {
      "cell_type": "code",
      "source": [
        "# Delete the Object properties\n",
        "print(student1.__dict__)\n",
        "del student1.percentage\n",
        "print(student1.__dict__)\n"
      ],
      "metadata": {
        "colab": {
          "base_uri": "https://localhost:8080/"
        },
        "id": "Yp3svarSwYEk",
        "outputId": "8897eabd-ba9d-426f-9584-e74110c86a96"
      },
      "execution_count": null,
      "outputs": [
        {
          "output_type": "stream",
          "name": "stdout",
          "text": [
            "{'name': 'Madhav B', 'grade': 11, 'percentage': 78}\n",
            "{'name': 'Madhav B', 'grade': 11}\n"
          ]
        }
      ]
    },
    {
      "cell_type": "code",
      "source": [
        "# Delete the Object\n",
        "print(student1)\n",
        "del student1\n",
        "print(student1)\n",
        "\n"
      ],
      "metadata": {
        "colab": {
          "base_uri": "https://localhost:8080/",
          "height": 305
        },
        "id": "5KMwn8EjwYI5",
        "outputId": "56ada270-1ca0-4334-ba21-c9f3432279f2"
      },
      "execution_count": null,
      "outputs": [
        {
          "output_type": "stream",
          "name": "stdout",
          "text": [
            "<__main__.Student object at 0x78ca02834c10>\n"
          ]
        },
        {
          "output_type": "error",
          "ename": "NameError",
          "evalue": "name 'student1' is not defined",
          "traceback": [
            "\u001b[0;31m---------------------------------------------------------------------------\u001b[0m",
            "\u001b[0;31mNameError\u001b[0m                                 Traceback (most recent call last)",
            "\u001b[0;32m/tmp/ipython-input-15-938836262.py\u001b[0m in \u001b[0;36m<cell line: 0>\u001b[0;34m()\u001b[0m\n\u001b[1;32m      2\u001b[0m \u001b[0mprint\u001b[0m\u001b[0;34m(\u001b[0m\u001b[0mstudent1\u001b[0m\u001b[0;34m)\u001b[0m\u001b[0;34m\u001b[0m\u001b[0;34m\u001b[0m\u001b[0m\n\u001b[1;32m      3\u001b[0m \u001b[0;32mdel\u001b[0m \u001b[0mstudent1\u001b[0m\u001b[0;34m\u001b[0m\u001b[0;34m\u001b[0m\u001b[0m\n\u001b[0;32m----> 4\u001b[0;31m \u001b[0mprint\u001b[0m\u001b[0;34m(\u001b[0m\u001b[0mstudent1\u001b[0m\u001b[0;34m)\u001b[0m\u001b[0;34m\u001b[0m\u001b[0;34m\u001b[0m\u001b[0m\n\u001b[0m\u001b[1;32m      5\u001b[0m \u001b[0;34m\u001b[0m\u001b[0m\n\u001b[1;32m      6\u001b[0m \u001b[0;34m\u001b[0m\u001b[0m\n",
            "\u001b[0;31mNameError\u001b[0m: name 'student1' is not defined"
          ]
        }
      ]
    },
    {
      "cell_type": "code",
      "source": [
        "class Student: # Student class\n",
        "  def __init__(self, name, grade, percentage, team): # Function in Class (OOPs) is Method initalize\n",
        "      self.name = name # attribute\n",
        "      self.grade = grade # attribute\n",
        "      self.percentage= percentage # attribute\n",
        "      self.team = team\n",
        "\n",
        "  def student_details(self): # Method\n",
        "    print(f\"{self.name} is in class {self.grade}, with {self.percentage}% and is in team {self.team}\")\n",
        "\n",
        "team1 = 'A'\n",
        "team2 = 'B'\n",
        "\n",
        "# Object- instance of class\n",
        "student1 = Student('Madhav B', 11, 96, team1)\n",
        "#print(student1.name, student1.grade)\n",
        "\n",
        "student2 = Student('Pranil', 10, 99, team2)\n",
        "#print(student2.name, student2.grade)\n",
        "\n",
        "\n",
        "student1.student_details()\n",
        "student2.student_details()\n",
        "\n"
      ],
      "metadata": {
        "id": "FZMKVWi5wYNP"
      },
      "execution_count": null,
      "outputs": []
    },
    {
      "cell_type": "code",
      "source": [
        "class Student(): # Class\n",
        "  def __init__(self, name, grade, percentage, team): # Method\n",
        "    self.name= name # attribute\n",
        "    self.grade= grade\n",
        "    self.percentage= percentage\n",
        "    self.team= team\n",
        "\n",
        "  def student_details(self): # Method\n",
        "    print(f\"{self.name} is in the standard {self.grade} with {self.percentage}% and is in {self.team}\")\n",
        "\n",
        "team1 = 'A_team'\n",
        "team2 = 'B_team'\n",
        "\n",
        "# object\n",
        "student1 = Student('Madhav', 11, 91, team1)\n",
        "student2 = Student('Vishakha', 12, 95, team2)\n",
        "\n",
        "\n",
        "student1.student_details()\n",
        "student2.student_details()\n",
        "\n"
      ],
      "metadata": {
        "id": "foQiUcChBRrg",
        "colab": {
          "base_uri": "https://localhost:8080/"
        },
        "outputId": "28f6fc0d-39be-462a-d230-7f11103073a5"
      },
      "execution_count": null,
      "outputs": [
        {
          "output_type": "stream",
          "name": "stdout",
          "text": [
            "Madhav is in the standard 11 with 91% and is in A_team\n",
            "Vishakha is in the standard 12 with 95% and is in B_team\n"
          ]
        }
      ]
    },
    {
      "cell_type": "code",
      "source": [
        "# 1] Abstraction- hidding unnecessary things\n",
        "\n",
        "\n",
        "class Student(): # Class\n",
        "  def __init__(self, name, grade, percentage, team): # Method\n",
        "    self.name= name # attribute\n",
        "    self.grade= grade\n",
        "    self.percentage= percentage\n",
        "    self.team= team\n",
        "\n",
        "  def student_details(self): # Method\n",
        "    print(f\"{self.name} is in the standard {self.grade} with {self.percentage+2}% and is in {self.team}\")\n",
        "# here add 2 more perecentage here hidding value from users\n",
        "\n",
        "team1 = 'A_team'\n",
        "team2 = 'B_team'\n",
        "\n",
        "# object\n",
        "student1 = Student('Madhav', 11, 91, team1)\n",
        "student2 = Student('Vishakha', 12, 95, team2)\n",
        "\n",
        "\n",
        "student1.student_details()\n",
        "student2.student_details()\n",
        "\n"
      ],
      "metadata": {
        "id": "3Sb00phNBRuT",
        "colab": {
          "base_uri": "https://localhost:8080/"
        },
        "outputId": "5462742a-191a-43b7-a495-0ddbadf221e8"
      },
      "execution_count": null,
      "outputs": [
        {
          "output_type": "stream",
          "name": "stdout",
          "text": [
            "Madhav is in the standard 11 with 93% and is in A_team\n",
            "Vishakha is in the standard 12 with 97% and is in B_team\n"
          ]
        }
      ]
    },
    {
      "cell_type": "code",
      "source": [
        "# 2] Encapsulation- private or protect data\n",
        "\n",
        "\n",
        "class Student(): # Class\n",
        "  def __init__(self, name, grade, percentage, team): # Method\n",
        "    self.name= name # attribute\n",
        "    self.grade= grade\n",
        "    self.__percentage= percentage # Double underscore limits access\n",
        "    self.team= team\n",
        "\n",
        "  def get_percentage(self):\n",
        "    return self.__percentage # Encapsulation- private\n",
        "\n",
        "\n",
        "  def student_details(self): # Method\n",
        "    print(f\"{self.name} is in the standard {self.grade} with {self.percentage}% and is in {self.team}\")\n",
        "\n",
        "\n",
        "team1 = 'A_team'\n",
        "team2 = 'B_team'\n",
        "\n",
        "# object\n",
        "student1 = Student('Madhav', 11, 91, team1)\n",
        "student2 = Student('Vishakha', 12, 95, team2)\n",
        "\n",
        "\n",
        "#student1.student_details()\n",
        "#student2.student_details()\n",
        "\n",
        "# print(student1.percentage)  # It gives an ERROR\n",
        "# print(student1.__percentage)  # It gives an ERROR\n",
        "print(student1.get_percentage())\n",
        "print(student2.get_percentage())\n"
      ],
      "metadata": {
        "id": "EFmqAzDcBRy_",
        "colab": {
          "base_uri": "https://localhost:8080/"
        },
        "outputId": "737230c7-36a6-49e4-98ce-cde4d4f17294"
      },
      "execution_count": null,
      "outputs": [
        {
          "output_type": "stream",
          "name": "stdout",
          "text": [
            "91\n",
            "95\n"
          ]
        }
      ]
    },
    {
      "cell_type": "code",
      "source": [
        "# 3] Inheriance\n",
        "\n",
        "# Parent Class\n",
        "class Student(): # Class\n",
        "  def __init__(self, name, grade, percentage, team): # Method\n",
        "    self.name= name # attribute\n",
        "    self.grade= grade\n",
        "    self.percentage= percentage\n",
        "    self.team= team\n",
        "\n",
        "  def student_details(self): # Method\n",
        "    print(f\"{self.name} is in the standard {self.grade} with {self.percentage}% and is in {self.team}\")\n",
        "\n",
        "team1 = 'A_team'\n",
        "team2 = 'B_team'\n",
        "\n",
        "# object - Student Class\n",
        "student1 = Student('Madhav', 11, 91, team1)\n",
        "student2 = Student('Vishakha', 12, 95, team2)\n",
        "\n",
        "# Child Class\n",
        "class GraduateStudent(Student): # GraduateStudent child class inherit prop and methods from Student Parent Class\n",
        "  def __init__(self, name, grade, percentage, team, stream): # old parameter from parent class and new parameter in Child Class\n",
        "    super().__init__(name, grade, percentage, team) # call Parent class init\n",
        "    self.stream = stream # new attribute included in Child Class\n",
        "\n",
        "  def student_details(self):\n",
        "    super().student_details() # this method inherit from parent class\n",
        "    print(f\"Stream is {self.stream}\")\n",
        "\n",
        "# Object - Graduatea Class\n",
        "Grad_Student1 = GraduateStudent('Abi', 12, 89, team1, 'PCM')\n",
        "# print(Grad_Student.stream)\n",
        "Grad_Student1.student_details()\n",
        "\n",
        "\n"
      ],
      "metadata": {
        "id": "0Gcs5jIaBR2I",
        "colab": {
          "base_uri": "https://localhost:8080/"
        },
        "outputId": "9a887736-4637-4fad-ab28-542307170b56"
      },
      "execution_count": null,
      "outputs": [
        {
          "output_type": "stream",
          "name": "stdout",
          "text": [
            "Abi is in the standard 12 with 89% and is in A_team\n",
            "Stream is PCM\n"
          ]
        }
      ]
    },
    {
      "cell_type": "code",
      "source": [
        "# 4] Polymorphism\n",
        "# allow methods in different classes to have same name but different beviour depending on object\n",
        "\n",
        "# Parent Class\n",
        "class Student(): # Class\n",
        "  def __init__(self, name, grade, percentage, team): # Method\n",
        "    self.name= name # attribute\n",
        "    self.grade= grade\n",
        "    self.percentage= percentage\n",
        "    self.team= team\n",
        "\n",
        "  def student_details(self): # Method\n",
        "    print(f\"{self.name} is in the standard {self.grade} with {self.percentage}% and is in {self.team}\")\n",
        "\n",
        "team1 = 'A_team'\n",
        "team2 = 'B_team'\n",
        "\n",
        "# Child Class\n",
        "class GraduateStudent(Student): # GraduateStudent child class inherit prop and methods from Student Parent Class\n",
        "  def __init__(self, name, grade, percentage, team, stream): # old parameter from parent class and new parameter in Child Class\n",
        "    super().__init__(name, grade, percentage, team) # call Parent class init\n",
        "    self.stream = stream # new attribute included in Child Class\n",
        "\n",
        "  def student_details(self): # Method\n",
        "    print(f\"{self.name} is in class{self.grade} having {self.percentage}% is in {self.team}, Stream is {self.stream}\")\n",
        "    print(\"same method with different output\")\n",
        "\n",
        "# object- Student class\n",
        "student1 = Student('Madhav', 11, 91, team1)\n",
        "student2 = Student('Vishakha', 12, 95, team2)\n",
        "\n",
        "\n",
        "# Object- Graduate Class\n",
        "Grad_Student1 = GraduateStudent('Abi', 12, 89, team1, 'PCM')\n",
        "# print(Grad_Student.stream)\n",
        "student1.student_details() # student_details() this method is same but we calling\n",
        "Grad_Student1.student_details() #perticular class object this is Polymorphism\n",
        "\n"
      ],
      "metadata": {
        "colab": {
          "base_uri": "https://localhost:8080/"
        },
        "id": "NnyE_cbfwsJx",
        "outputId": "3d145a7b-d0cd-4b61-bb64-27631f362240"
      },
      "execution_count": null,
      "outputs": [
        {
          "output_type": "stream",
          "name": "stdout",
          "text": [
            "Madhav is in the standard 11 with 91% and is in A_team\n",
            "Abi is in class12 having 89% is in A_team, Stream is PCM\n",
            "same method with different output\n"
          ]
        }
      ]
    },
    {
      "cell_type": "code",
      "source": [],
      "metadata": {
        "id": "tlJJAxDdwsMp"
      },
      "execution_count": null,
      "outputs": []
    },
    {
      "cell_type": "code",
      "source": [],
      "metadata": {
        "id": "w54yORNVwsPQ"
      },
      "execution_count": null,
      "outputs": []
    },
    {
      "cell_type": "code",
      "source": [],
      "metadata": {
        "id": "c22zBdL5wsUc"
      },
      "execution_count": null,
      "outputs": []
    },
    {
      "cell_type": "code",
      "source": [],
      "metadata": {
        "id": "fvy-pqbRwsWx"
      },
      "execution_count": null,
      "outputs": []
    },
    {
      "cell_type": "code",
      "source": [],
      "metadata": {
        "id": "iF5nGtxRwsY-"
      },
      "execution_count": null,
      "outputs": []
    },
    {
      "cell_type": "code",
      "source": [],
      "metadata": {
        "id": "1SRUpy6RnRsh"
      },
      "execution_count": null,
      "outputs": []
    },
    {
      "cell_type": "code",
      "source": [],
      "metadata": {
        "id": "ocQiHwVBnRu4"
      },
      "execution_count": null,
      "outputs": []
    },
    {
      "cell_type": "code",
      "source": [],
      "metadata": {
        "id": "riCjlqcUnRxZ"
      },
      "execution_count": null,
      "outputs": []
    },
    {
      "cell_type": "code",
      "source": [],
      "metadata": {
        "id": "s-rxDCtZnR04"
      },
      "execution_count": null,
      "outputs": []
    }
  ]
}