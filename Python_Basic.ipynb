{
  "nbformat": 4,
  "nbformat_minor": 0,
  "metadata": {
    "colab": {
      "provenance": []
    },
    "kernelspec": {
      "name": "python3",
      "display_name": "Python 3"
    },
    "language_info": {
      "name": "python"
    }
  },
  "cells": [
    {
      "cell_type": "code",
      "execution_count": null,
      "metadata": {
        "colab": {
          "base_uri": "https://localhost:8080/"
        },
        "id": "_pLOqr_3nykW",
        "outputId": "217587a9-e028-4bde-d638-6e4bde6dcadc"
      },
      "outputs": [
        {
          "output_type": "stream",
          "name": "stdout",
          "text": [
            "\n",
            "*\n",
            "**\n",
            "***\n",
            "****\n"
          ]
        }
      ],
      "source": [
        "x=\"*\"\n",
        "for i in range(5):\n",
        "  print(i*x)"
      ]
    },
    {
      "cell_type": "code",
      "source": [
        "x=\"*\"\n",
        "for i in range(5):\n",
        "  print(x*i)"
      ],
      "metadata": {
        "colab": {
          "base_uri": "https://localhost:8080/"
        },
        "id": "KTNA4__Gn85e",
        "outputId": "809ff027-0a4c-4d8f-9dad-503be63fd4df"
      },
      "execution_count": null,
      "outputs": [
        {
          "output_type": "stream",
          "name": "stdout",
          "text": [
            "\n",
            "*\n",
            "**\n",
            "***\n",
            "****\n"
          ]
        }
      ]
    },
    {
      "cell_type": "code",
      "source": [
        "x=\"* \"\n",
        "for i in range(5):\n",
        "  print(i*x)\n",
        "for i in range(5,0,-1):\n",
        "  print(i*x)\n"
      ],
      "metadata": {
        "colab": {
          "base_uri": "https://localhost:8080/"
        },
        "id": "DlAILe3Vn_41",
        "outputId": "73c16f45-60b2-4d5a-8bf9-1476b1f81966"
      },
      "execution_count": null,
      "outputs": [
        {
          "output_type": "stream",
          "name": "stdout",
          "text": [
            "\n",
            "* \n",
            "* * \n",
            "* * * \n",
            "* * * * \n",
            "* * * * * \n",
            "* * * * \n",
            "* * * \n",
            "* * \n",
            "* \n"
          ]
        }
      ]
    },
    {
      "cell_type": "code",
      "source": [
        "from re import I\n",
        "x=\"*\"\n",
        "for i in range(5):\n",
        "  y= (x + \" \")*i\n",
        "  print(y)\n"
      ],
      "metadata": {
        "colab": {
          "base_uri": "https://localhost:8080/"
        },
        "id": "4Oe2Qp4WoPIV",
        "outputId": "618bc563-3a77-46ce-bd5c-dbe06e81656f"
      },
      "execution_count": null,
      "outputs": [
        {
          "output_type": "stream",
          "name": "stdout",
          "text": [
            "\n",
            "* \n",
            "* * \n",
            "* * * \n",
            "* * * * \n"
          ]
        }
      ]
    },
    {
      "cell_type": "code",
      "source": [
        "movie = \"Dhadakan\"\n",
        "for i in movie:\n",
        "  print(i)"
      ],
      "metadata": {
        "colab": {
          "base_uri": "https://localhost:8080/"
        },
        "id": "GwzpuQDgp4Xt",
        "outputId": "ef49898d-1dbc-42b1-93ad-9fe8bfa8619f"
      },
      "execution_count": null,
      "outputs": [
        {
          "output_type": "stream",
          "name": "stdout",
          "text": [
            "D\n",
            "h\n",
            "a\n",
            "d\n",
            "a\n",
            "k\n",
            "a\n",
            "n\n"
          ]
        }
      ]
    },
    {
      "cell_type": "code",
      "source": [
        "movie = \"Dhadakan\"\n",
        "for i in movie:\n",
        "  print(i.swapcase())"
      ],
      "metadata": {
        "colab": {
          "base_uri": "https://localhost:8080/"
        },
        "id": "rwjQLAtbp4aX",
        "outputId": "6186c4a4-f9fb-4e48-8ffe-bd787e67a6f7"
      },
      "execution_count": null,
      "outputs": [
        {
          "output_type": "stream",
          "name": "stdout",
          "text": [
            "d\n",
            "H\n",
            "A\n",
            "D\n",
            "A\n",
            "K\n",
            "A\n",
            "N\n"
          ]
        }
      ]
    },
    {
      "cell_type": "code",
      "source": [
        "movie = \"Dhadakan\"\n",
        "for i in movie:\n",
        "  print(i.swapcase(), end =\"\")"
      ],
      "metadata": {
        "colab": {
          "base_uri": "https://localhost:8080/"
        },
        "id": "t4yphl5Up4Ve",
        "outputId": "46d8d789-98fa-4b25-dcb9-ce2b75b474a0"
      },
      "execution_count": null,
      "outputs": [
        {
          "output_type": "stream",
          "name": "stdout",
          "text": [
            "dHADAKAN"
          ]
        }
      ]
    },
    {
      "cell_type": "code",
      "source": [
        "movie = \"Dhadakan\"\n",
        "for i in movie:\n",
        "  print(i.swapcase(), end =\" \")"
      ],
      "metadata": {
        "colab": {
          "base_uri": "https://localhost:8080/"
        },
        "id": "7Mgg7skBp4c0",
        "outputId": "770ef4b3-50bd-4816-d3fb-0fc0ddf20211"
      },
      "execution_count": null,
      "outputs": [
        {
          "output_type": "stream",
          "name": "stdout",
          "text": [
            "d H A D A K A N "
          ]
        }
      ]
    },
    {
      "cell_type": "code",
      "source": [
        "movie = \"Dhadakan\"\n",
        "for i in movie:\n",
        "  print(i.upper(), end =\"\")"
      ],
      "metadata": {
        "colab": {
          "base_uri": "https://localhost:8080/"
        },
        "id": "PBxvSbQfp4fQ",
        "outputId": "52413d9e-0883-456b-cb1b-9bcf04ffdb56"
      },
      "execution_count": null,
      "outputs": [
        {
          "output_type": "stream",
          "name": "stdout",
          "text": [
            "DHADAKAN"
          ]
        }
      ]
    },
    {
      "cell_type": "code",
      "source": [
        "movie = \"Dhadakan\"\n",
        "for i in movie:\n",
        "  print(i.upper(), end =\" \")"
      ],
      "metadata": {
        "colab": {
          "base_uri": "https://localhost:8080/"
        },
        "id": "RSSstiPcp4hz",
        "outputId": "9da38f91-66bc-40c5-9015-aa0ab49e98e0"
      },
      "execution_count": null,
      "outputs": [
        {
          "output_type": "stream",
          "name": "stdout",
          "text": [
            "D H A D A K A N "
          ]
        }
      ]
    },
    {
      "cell_type": "code",
      "source": [
        "movie = \"Dhadakan\"\n",
        "for i in movie:\n",
        "  print(i.upper(), end =\"/\")"
      ],
      "metadata": {
        "colab": {
          "base_uri": "https://localhost:8080/"
        },
        "id": "MfAzF28wp4ju",
        "outputId": "4fae7900-6a15-4ad8-a004-562403cdb9df"
      },
      "execution_count": null,
      "outputs": [
        {
          "output_type": "stream",
          "name": "stdout",
          "text": [
            "D/H/A/D/A/K/A/N/"
          ]
        }
      ]
    },
    {
      "cell_type": "code",
      "source": [
        "movie = \"Dhadakan\"\n",
        "for i in movie:\n",
        "  print(i.upper(), end =\"-\")"
      ],
      "metadata": {
        "colab": {
          "base_uri": "https://localhost:8080/"
        },
        "id": "qDTH4Tctp4l9",
        "outputId": "e6ef79e0-4aca-45f1-be38-7aef82538809"
      },
      "execution_count": null,
      "outputs": [
        {
          "output_type": "stream",
          "name": "stdout",
          "text": [
            "D-H-A-D-A-K-A-N-"
          ]
        }
      ]
    },
    {
      "cell_type": "code",
      "source": [
        "movie = \"Dhadakan\"\n",
        "for i in movie:\n",
        "  print(i.upper(), end =\"*\")"
      ],
      "metadata": {
        "colab": {
          "base_uri": "https://localhost:8080/"
        },
        "id": "ukSwxqb0p4pj",
        "outputId": "23b7475d-9a00-425e-9528-2c6846e3e803"
      },
      "execution_count": null,
      "outputs": [
        {
          "output_type": "stream",
          "name": "stdout",
          "text": [
            "D*H*A*D*A*K*A*N*"
          ]
        }
      ]
    },
    {
      "cell_type": "code",
      "source": [
        "# Print odd and even numbers from 1 to 11\n",
        "for i in range(1,12):\n",
        "  if i % 2 == 0:\n",
        "    print('This is the even number:', i)\n",
        "  else:\n",
        "    print('This is the odd number:', i)\n"
      ],
      "metadata": {
        "colab": {
          "base_uri": "https://localhost:8080/"
        },
        "id": "RNkr3TvZrWar",
        "outputId": "39fd502f-9fc1-496f-9b4f-9566af5aa76b"
      },
      "execution_count": null,
      "outputs": [
        {
          "output_type": "stream",
          "name": "stdout",
          "text": [
            "This is the odd number: 1\n",
            "This is the even number: 2\n",
            "This is the odd number: 3\n",
            "This is the even number: 4\n",
            "This is the odd number: 5\n",
            "This is the even number: 6\n",
            "This is the odd number: 7\n",
            "This is the even number: 8\n",
            "This is the odd number: 9\n",
            "This is the even number: 10\n",
            "This is the odd number: 11\n"
          ]
        }
      ]
    },
    {
      "cell_type": "code",
      "source": [
        "for i in range (21):\n",
        "  if i%2==0:\n",
        "    print('Even number: ', i)\n",
        "  else:\n",
        "    print('Odd number: ', i)"
      ],
      "metadata": {
        "colab": {
          "base_uri": "https://localhost:8080/"
        },
        "id": "euopqw2qr6x0",
        "outputId": "aa0ab695-6491-48c6-c79d-2582a75a22b8"
      },
      "execution_count": null,
      "outputs": [
        {
          "output_type": "stream",
          "name": "stdout",
          "text": [
            "Even number:  0\n",
            "Odd number:  1\n",
            "Even number:  2\n",
            "Odd number:  3\n",
            "Even number:  4\n",
            "Odd number:  5\n",
            "Even number:  6\n",
            "Odd number:  7\n",
            "Even number:  8\n",
            "Odd number:  9\n",
            "Even number:  10\n",
            "Odd number:  11\n",
            "Even number:  12\n",
            "Odd number:  13\n",
            "Even number:  14\n",
            "Odd number:  15\n",
            "Even number:  16\n",
            "Odd number:  17\n",
            "Even number:  18\n",
            "Odd number:  19\n",
            "Even number:  20\n"
          ]
        }
      ]
    },
    {
      "cell_type": "code",
      "source": [
        "print('Even numbers')\n",
        "for i in range (11):\n",
        "  if i%2==0:\n",
        "    print(i)\n",
        "\n",
        "print('Odd numbers')\n",
        "for i in range (11):\n",
        "  if i%2!=0:\n",
        "    print(i)"
      ],
      "metadata": {
        "colab": {
          "base_uri": "https://localhost:8080/"
        },
        "id": "WTNbk1PHr60X",
        "outputId": "b0b4f022-e01b-4a3c-b967-06a0225198b0"
      },
      "execution_count": null,
      "outputs": [
        {
          "output_type": "stream",
          "name": "stdout",
          "text": [
            "Even numbers\n",
            "0\n",
            "2\n",
            "4\n",
            "6\n",
            "8\n",
            "10\n",
            "Odd numbers\n",
            "1\n",
            "3\n",
            "5\n",
            "7\n",
            "9\n"
          ]
        }
      ]
    },
    {
      "cell_type": "code",
      "source": [
        "for i in \"Milit\":\n",
        "  print(i*3)"
      ],
      "metadata": {
        "colab": {
          "base_uri": "https://localhost:8080/"
        },
        "id": "747fbvoYr642",
        "outputId": "a1ff1c43-6d23-4470-a20e-cbdb333161eb"
      },
      "execution_count": null,
      "outputs": [
        {
          "output_type": "stream",
          "name": "stdout",
          "text": [
            "MMM\n",
            "iii\n",
            "lll\n",
            "iii\n",
            "ttt\n"
          ]
        }
      ]
    },
    {
      "cell_type": "code",
      "source": [
        "for i in \"Milit\":\n",
        "  print(i*3, end=\" \")"
      ],
      "metadata": {
        "colab": {
          "base_uri": "https://localhost:8080/"
        },
        "id": "81zvgCg5wu_3",
        "outputId": "ef80f3f0-1d67-4de9-c5a6-370afc8f40eb"
      },
      "execution_count": null,
      "outputs": [
        {
          "output_type": "stream",
          "name": "stdout",
          "text": [
            "MMM iii lll iii ttt "
          ]
        }
      ]
    },
    {
      "cell_type": "code",
      "source": [
        "len(\"milit Diat\")"
      ],
      "metadata": {
        "colab": {
          "base_uri": "https://localhost:8080/"
        },
        "id": "ipERGY48wvCT",
        "outputId": "c0f858f2-7fc6-433a-dad3-497106158fbf"
      },
      "execution_count": null,
      "outputs": [
        {
          "output_type": "execute_result",
          "data": {
            "text/plain": [
              "10"
            ]
          },
          "metadata": {},
          "execution_count": 43
        }
      ]
    },
    {
      "cell_type": "code",
      "source": [
        "len(\"ashraf habib sayyad\")"
      ],
      "metadata": {
        "colab": {
          "base_uri": "https://localhost:8080/"
        },
        "id": "wIFIdD05wvFx",
        "outputId": "53a4741e-79a0-4f13-a90e-67d4c670ae6f"
      },
      "execution_count": null,
      "outputs": [
        {
          "output_type": "execute_result",
          "data": {
            "text/plain": [
              "19"
            ]
          },
          "metadata": {},
          "execution_count": 1
        }
      ]
    },
    {
      "cell_type": "code",
      "source": [
        "x='*'\n",
        "for i in range(5):\n",
        "  print(i*x)\n",
        "for i in range (5,0,-1):\n",
        "  print(i*x)"
      ],
      "metadata": {
        "id": "g0Qb6j4Ixa6M",
        "colab": {
          "base_uri": "https://localhost:8080/"
        },
        "outputId": "c1e2882f-0827-4da2-80c4-b79138b35573"
      },
      "execution_count": null,
      "outputs": [
        {
          "output_type": "stream",
          "name": "stdout",
          "text": [
            "\n",
            "*\n",
            "**\n",
            "***\n",
            "****\n",
            "*****\n",
            "****\n",
            "***\n",
            "**\n",
            "*\n"
          ]
        }
      ]
    },
    {
      "cell_type": "code",
      "source": [
        "x='*'\n",
        "for i in range(0,5,2):\n",
        "  print(i*x)\n",
        "for i in range (5,0,-2):\n",
        "  print(i*x)"
      ],
      "metadata": {
        "id": "9Trtnznmxa8u",
        "colab": {
          "base_uri": "https://localhost:8080/"
        },
        "outputId": "9bfaa49c-9cc7-41b9-8913-a7d912df656d"
      },
      "execution_count": null,
      "outputs": [
        {
          "output_type": "stream",
          "name": "stdout",
          "text": [
            "\n",
            "**\n",
            "****\n",
            "*****\n",
            "***\n",
            "*\n"
          ]
        }
      ]
    },
    {
      "cell_type": "code",
      "source": [
        "rows = 5\n",
        "\n",
        "# Upper part of the pattern\n",
        "for i in range(1, rows + 1):\n",
        "    print(' ' * (rows - i) + '*' * i)\n",
        "\n",
        "# Lower part of the pattern\n",
        "for i in range(rows - 1, 0, -1):\n",
        "    print(' ' * (rows - i) + '*' * i)\n"
      ],
      "metadata": {
        "id": "xzu-eVZDxa_h",
        "colab": {
          "base_uri": "https://localhost:8080/"
        },
        "outputId": "91680ee7-0d62-40b0-94e4-03bab32851e7"
      },
      "execution_count": null,
      "outputs": [
        {
          "output_type": "stream",
          "name": "stdout",
          "text": [
            "    *\n",
            "   **\n",
            "  ***\n",
            " ****\n",
            "*****\n",
            " ****\n",
            "  ***\n",
            "   **\n",
            "    *\n"
          ]
        }
      ]
    },
    {
      "cell_type": "code",
      "source": [
        "# if - elif condition\n",
        "num = int(input (\"Enter the number\"))\n",
        "if num>0:\n",
        "  print(\"Positive\")\n",
        "elif num==0:\n",
        "  print(\"Number is zero\")\n",
        "else:\n",
        "  print(\"Negative\")"
      ],
      "metadata": {
        "id": "b9LgYmZTxbDA",
        "colab": {
          "base_uri": "https://localhost:8080/"
        },
        "outputId": "4bbab4ea-a147-43b5-b165-644dd76f6697"
      },
      "execution_count": null,
      "outputs": [
        {
          "output_type": "stream",
          "name": "stdout",
          "text": [
            "Enter the number0\n",
            "Number is zero\n"
          ]
        }
      ]
    },
    {
      "cell_type": "code",
      "source": [
        "# Input function\n",
        "\n",
        "name = input(\"Enter your name: \")"
      ],
      "metadata": {
        "colab": {
          "base_uri": "https://localhost:8080/"
        },
        "id": "mxT3B5APVmNx",
        "outputId": "57cc1591-795a-429a-8607-5929444529a6"
      },
      "execution_count": null,
      "outputs": [
        {
          "name": "stdout",
          "output_type": "stream",
          "text": [
            "Enter your name: Ashraf\n"
          ]
        }
      ]
    },
    {
      "cell_type": "code",
      "source": [
        "marks = input(\"Enter your marks: \")"
      ],
      "metadata": {
        "colab": {
          "base_uri": "https://localhost:8080/"
        },
        "id": "VhggXoXAVmQJ",
        "outputId": "88219ce3-282b-470c-bc00-3c622646ecdc"
      },
      "execution_count": null,
      "outputs": [
        {
          "name": "stdout",
          "output_type": "stream",
          "text": [
            "Enter your marks66\n"
          ]
        }
      ]
    },
    {
      "cell_type": "code",
      "source": [
        "marks"
      ],
      "metadata": {
        "colab": {
          "base_uri": "https://localhost:8080/",
          "height": 38
        },
        "id": "gxlrNP0EVmT3",
        "outputId": "5b2d9ce7-e444-411d-ec42-998fbdb7bb5e"
      },
      "execution_count": null,
      "outputs": [
        {
          "output_type": "execute_result",
          "data": {
            "text/plain": [
              "'66'"
            ],
            "application/vnd.google.colaboratory.intrinsic+json": {
              "type": "string"
            }
          },
          "metadata": {},
          "execution_count": 22
        }
      ]
    },
    {
      "cell_type": "code",
      "source": [
        "age= 30"
      ],
      "metadata": {
        "id": "H7xOSAgbVmW3"
      },
      "execution_count": null,
      "outputs": []
    },
    {
      "cell_type": "code",
      "source": [
        "age\n"
      ],
      "metadata": {
        "colab": {
          "base_uri": "https://localhost:8080/"
        },
        "id": "cPzvnDSeVmZy",
        "outputId": "ff83005e-7ee2-4812-94cd-6742128b6d2a"
      },
      "execution_count": null,
      "outputs": [
        {
          "output_type": "execute_result",
          "data": {
            "text/plain": [
              "30"
            ]
          },
          "metadata": {},
          "execution_count": 24
        }
      ]
    },
    {
      "cell_type": "code",
      "source": [
        "age+10"
      ],
      "metadata": {
        "colab": {
          "base_uri": "https://localhost:8080/"
        },
        "id": "-GEcvQeyVmdL",
        "outputId": "75d8c936-4cd3-4fd9-b2f1-3f616d5749e9"
      },
      "execution_count": null,
      "outputs": [
        {
          "output_type": "execute_result",
          "data": {
            "text/plain": [
              "40"
            ]
          },
          "metadata": {},
          "execution_count": 25
        }
      ]
    },
    {
      "cell_type": "code",
      "source": [
        "age"
      ],
      "metadata": {
        "id": "Nz50sT62xbUG",
        "colab": {
          "base_uri": "https://localhost:8080/"
        },
        "outputId": "b2f3de6d-5b67-4064-e08b-772de6994122"
      },
      "execution_count": null,
      "outputs": [
        {
          "output_type": "execute_result",
          "data": {
            "text/plain": [
              "30"
            ]
          },
          "metadata": {},
          "execution_count": 26
        }
      ]
    },
    {
      "cell_type": "code",
      "source": [
        "# Type casting\n",
        "\n",
        "age = int(input(\"Enter your age: \"))\n"
      ],
      "metadata": {
        "colab": {
          "base_uri": "https://localhost:8080/"
        },
        "id": "46OTLOhzYzLv",
        "outputId": "77aac8a8-daaa-409a-83ba-f06187b68ece"
      },
      "execution_count": null,
      "outputs": [
        {
          "name": "stdout",
          "output_type": "stream",
          "text": [
            "Enter your age: 56\n"
          ]
        }
      ]
    },
    {
      "cell_type": "code",
      "source": [
        "age"
      ],
      "metadata": {
        "colab": {
          "base_uri": "https://localhost:8080/"
        },
        "id": "CPTcYCpcY-8b",
        "outputId": "7ed45a7b-46ac-445a-a5cf-f90ac93574ad"
      },
      "execution_count": null,
      "outputs": [
        {
          "output_type": "execute_result",
          "data": {
            "text/plain": [
              "56"
            ]
          },
          "metadata": {},
          "execution_count": 29
        }
      ]
    },
    {
      "cell_type": "code",
      "source": [
        "age +8"
      ],
      "metadata": {
        "colab": {
          "base_uri": "https://localhost:8080/"
        },
        "id": "eJ-_4zmmZPzE",
        "outputId": "7dd185a7-e6c6-495b-fea8-ce95cdf29ac7"
      },
      "execution_count": null,
      "outputs": [
        {
          "output_type": "execute_result",
          "data": {
            "text/plain": [
              "64"
            ]
          },
          "metadata": {},
          "execution_count": 30
        }
      ]
    },
    {
      "cell_type": "code",
      "source": [
        "num = int(input(\"Enter the num: \"))\n",
        "print(num)\n",
        "if num % 7 == 0:\n",
        "  print(\"num is divisible by 7\")\n",
        "else:\n",
        "  print(\"Sorry, try again\")"
      ],
      "metadata": {
        "colab": {
          "base_uri": "https://localhost:8080/"
        },
        "id": "hG2nqOkyZTx5",
        "outputId": "ac4647fa-7d3a-439b-fd2a-c201d6ed21b4"
      },
      "execution_count": null,
      "outputs": [
        {
          "output_type": "stream",
          "name": "stdout",
          "text": [
            "Enter the num: 77\n",
            "77\n",
            "num is divisible by 7\n"
          ]
        }
      ]
    },
    {
      "cell_type": "code",
      "source": [
        "Marks = int(input(\"Enter the marks of student: \"))\n",
        "if  Marks >= 90:\n",
        "  print(\"Distinction\")\n",
        "elif Marks >= 80:\n",
        "  print(\"First Class\")\n",
        "elif Marks >= 70:\n",
        "  print(\"Second Class\")\n",
        "elif Marks >= 60:\n",
        "  print(\"Pass\")\n",
        "else:\n",
        "  print(\"Fail\")\n",
        "\n"
      ],
      "metadata": {
        "colab": {
          "base_uri": "https://localhost:8080/"
        },
        "id": "M9zGNFSlZ391",
        "outputId": "f2750d52-39cd-420b-ab09-fc20dac6d95b"
      },
      "execution_count": null,
      "outputs": [
        {
          "output_type": "stream",
          "name": "stdout",
          "text": [
            "Enter the marks of student: 75\n",
            "Second Class\n"
          ]
        }
      ]
    },
    {
      "cell_type": "code",
      "source": [
        "Mark_list = [34,55,77,95,20,65]\n",
        "for Marks in Mark_list:\n",
        "  if  Marks >= 90:\n",
        "    print(Marks,\"-->Distinction\")\n",
        "  elif Marks >= 80:\n",
        "   print(Marks,\"-->irst Class\")\n",
        "  elif Marks >= 70:\n",
        "    print(Marks,\"-->Second Class\")\n",
        "  elif Marks >= 60:\n",
        "   print(Marks,\"-->Pass\")\n",
        "  else:\n",
        "   print(Marks,\"-->Fail\")\n",
        "\n"
      ],
      "metadata": {
        "colab": {
          "base_uri": "https://localhost:8080/"
        },
        "id": "IF6PzrkJagQ3",
        "outputId": "a793e2d9-09d6-4e5c-eb9d-10003d79a8ab"
      },
      "execution_count": null,
      "outputs": [
        {
          "output_type": "stream",
          "name": "stdout",
          "text": [
            "34 -->Fail\n",
            "55 -->Fail\n",
            "77 -->Second Class\n",
            "95 -->Distinction\n",
            "20 -->Fail\n",
            "65 -->Pass\n"
          ]
        }
      ]
    },
    {
      "cell_type": "code",
      "source": [
        "x=1\n",
        "while x<6:\n",
        "  print(\"Hello\")\n",
        "  x=x+1"
      ],
      "metadata": {
        "colab": {
          "base_uri": "https://localhost:8080/"
        },
        "id": "oIEu4dipbUg4",
        "outputId": "00a656e4-1f18-4624-a891-a1048bf932cc"
      },
      "execution_count": null,
      "outputs": [
        {
          "output_type": "stream",
          "name": "stdout",
          "text": [
            "Hello\n",
            "Hello\n",
            "Hello\n",
            "Hello\n",
            "Hello\n"
          ]
        }
      ]
    },
    {
      "cell_type": "code",
      "source": [
        "def square(i):\n",
        "  return i * i\n",
        "square(6)"
      ],
      "metadata": {
        "colab": {
          "base_uri": "https://localhost:8080/"
        },
        "id": "cbyrQa2ebUlz",
        "outputId": "e1996ded-4841-4680-a47e-5151c95bdcdc"
      },
      "execution_count": null,
      "outputs": [
        {
          "output_type": "execute_result",
          "data": {
            "text/plain": [
              "36"
            ]
          },
          "metadata": {},
          "execution_count": 46
        }
      ]
    },
    {
      "cell_type": "code",
      "source": [
        "def square(i):\n",
        "  return i **2\n",
        "square(8)"
      ],
      "metadata": {
        "colab": {
          "base_uri": "https://localhost:8080/"
        },
        "id": "M8lT9zIweid4",
        "outputId": "fdde34e8-43e1-402f-ce61-869f0d84a07b"
      },
      "execution_count": null,
      "outputs": [
        {
          "output_type": "execute_result",
          "data": {
            "text/plain": [
              "64"
            ]
          },
          "metadata": {},
          "execution_count": 51
        }
      ]
    },
    {
      "cell_type": "code",
      "source": [
        "def cube(i):\n",
        "  return i *i *i\n",
        "cube(6)"
      ],
      "metadata": {
        "colab": {
          "base_uri": "https://localhost:8080/"
        },
        "id": "jiB2QbE3bUn_",
        "outputId": "07339b71-129b-4efe-cf18-dd51ea6be9b1"
      },
      "execution_count": null,
      "outputs": [
        {
          "output_type": "execute_result",
          "data": {
            "text/plain": [
              "216"
            ]
          },
          "metadata": {},
          "execution_count": 48
        }
      ]
    },
    {
      "cell_type": "code",
      "source": [
        "def cube(i):\n",
        "  return i **3\n",
        "cube(9)"
      ],
      "metadata": {
        "colab": {
          "base_uri": "https://localhost:8080/"
        },
        "id": "6GKEEJuCbUuG",
        "outputId": "d1d40e08-258d-459a-c20f-e95f2d7bf4b0"
      },
      "execution_count": null,
      "outputs": [
        {
          "output_type": "execute_result",
          "data": {
            "text/plain": [
              "729"
            ]
          },
          "metadata": {},
          "execution_count": 52
        }
      ]
    },
    {
      "cell_type": "code",
      "source": [
        "def grade(marks):\n",
        "  if marks>80:\n",
        "    grade= \"A\"\n",
        "  elif marks>70:\n",
        "    grade=\"B\"\n",
        "  elif marks > 60:\n",
        "    grade= \"C\"\n",
        "  else:\n",
        "    grade=\"F\"\n",
        "  return grade"
      ],
      "metadata": {
        "id": "etrYtEJBbUzt"
      },
      "execution_count": null,
      "outputs": []
    },
    {
      "cell_type": "code",
      "source": [
        "grade(58)"
      ],
      "metadata": {
        "colab": {
          "base_uri": "https://localhost:8080/",
          "height": 38
        },
        "id": "zta6tSWpgdb4",
        "outputId": "03353832-ae54-46a2-f965-7232c2084ae9"
      },
      "execution_count": null,
      "outputs": [
        {
          "output_type": "execute_result",
          "data": {
            "text/plain": [
              "'F'"
            ],
            "application/vnd.google.colaboratory.intrinsic+json": {
              "type": "string"
            }
          },
          "metadata": {},
          "execution_count": 70
        }
      ]
    },
    {
      "cell_type": "code",
      "source": [
        "grade(88)"
      ],
      "metadata": {
        "colab": {
          "base_uri": "https://localhost:8080/",
          "height": 38
        },
        "id": "mRCv_RoWgnRJ",
        "outputId": "a527d060-7289-44f9-a9b0-0bd78636f028"
      },
      "execution_count": null,
      "outputs": [
        {
          "output_type": "execute_result",
          "data": {
            "text/plain": [
              "'A'"
            ],
            "application/vnd.google.colaboratory.intrinsic+json": {
              "type": "string"
            }
          },
          "metadata": {},
          "execution_count": 71
        }
      ]
    },
    {
      "cell_type": "code",
      "source": [
        "# write a function calc_grade(marks)\n",
        "def calc_grade(marks):\n",
        "    if marks >= 80:\n",
        "      grade = \"Distinction\"\n",
        "    elif marks >= 60:\n",
        "      grade = \"First Class\"\n",
        "    elif marks >= 40:\n",
        "      grade = \"Pass\"\n",
        "    else:\n",
        "      grade = \"Fail\"\n",
        "    return grade # it should be aligned with if"
      ],
      "metadata": {
        "id": "QMXU_Mc5e-y6"
      },
      "execution_count": null,
      "outputs": []
    },
    {
      "cell_type": "code",
      "source": [
        "calc_grade(85)"
      ],
      "metadata": {
        "colab": {
          "base_uri": "https://localhost:8080/",
          "height": 38
        },
        "id": "mSLo7FPhe-1Q",
        "outputId": "40c3cdbd-62c9-4c43-bcdc-4ff96a0b3179"
      },
      "execution_count": null,
      "outputs": [
        {
          "output_type": "execute_result",
          "data": {
            "text/plain": [
              "'Distinction'"
            ],
            "application/vnd.google.colaboratory.intrinsic+json": {
              "type": "string"
            }
          },
          "metadata": {},
          "execution_count": 66
        }
      ]
    },
    {
      "cell_type": "code",
      "source": [
        "# List of Strings\n",
        "list3=[\"Mango\",\"Apple\",\"Banana\",\"Pineapple\",\"Custard Apple\",\"Strawberry\"]\n",
        "list3\n"
      ],
      "metadata": {
        "colab": {
          "base_uri": "https://localhost:8080/"
        },
        "id": "jISSPuNse-4T",
        "outputId": "75d0aea9-ce50-40ce-ba52-78e8625068c2"
      },
      "execution_count": null,
      "outputs": [
        {
          "output_type": "execute_result",
          "data": {
            "text/plain": [
              "['Mango', 'Apple', 'Banana', 'Pineapple', 'Custard Apple', 'Strawberry']"
            ]
          },
          "metadata": {},
          "execution_count": 1
        }
      ]
    },
    {
      "cell_type": "code",
      "source": [
        "list3[-4::-1]"
      ],
      "metadata": {
        "colab": {
          "base_uri": "https://localhost:8080/"
        },
        "id": "KfnrCboge--7",
        "outputId": "4371c2e3-363e-4343-eb99-e41293c16f1e"
      },
      "execution_count": null,
      "outputs": [
        {
          "output_type": "execute_result",
          "data": {
            "text/plain": [
              "['Banana', 'Apple', 'Mango']"
            ]
          },
          "metadata": {},
          "execution_count": 76
        }
      ]
    },
    {
      "cell_type": "code",
      "source": [
        "list3[-4::]"
      ],
      "metadata": {
        "colab": {
          "base_uri": "https://localhost:8080/"
        },
        "id": "Y9r6gCL8e_CX",
        "outputId": "c3344e3e-6899-4d37-e142-773f06675693"
      },
      "execution_count": null,
      "outputs": [
        {
          "output_type": "execute_result",
          "data": {
            "text/plain": [
              "['Banana', 'Pineapple', 'Custard Apple', 'Strawberry']"
            ]
          },
          "metadata": {},
          "execution_count": 77
        }
      ]
    },
    {
      "cell_type": "code",
      "source": [
        "list3[-4:-1]"
      ],
      "metadata": {
        "colab": {
          "base_uri": "https://localhost:8080/"
        },
        "id": "AXQ4zyH3e_L-",
        "outputId": "8b53d15e-ce9b-47dd-e304-91d54b56a008"
      },
      "execution_count": null,
      "outputs": [
        {
          "output_type": "execute_result",
          "data": {
            "text/plain": [
              "['Banana', 'Pineapple', 'Custard Apple']"
            ]
          },
          "metadata": {},
          "execution_count": 79
        }
      ]
    },
    {
      "cell_type": "code",
      "source": [
        "list3[::-1]"
      ],
      "metadata": {
        "colab": {
          "base_uri": "https://localhost:8080/"
        },
        "id": "zTHGXFFTe_PY",
        "outputId": "06c3f904-fd69-46bc-8d6d-ea58d7d13cb5"
      },
      "execution_count": null,
      "outputs": [
        {
          "output_type": "execute_result",
          "data": {
            "text/plain": [
              "['Strawberry', 'Custard Apple', 'Pineapple', 'Banana', 'Apple', 'Mango']"
            ]
          },
          "metadata": {},
          "execution_count": 81
        }
      ]
    },
    {
      "cell_type": "code",
      "source": [
        "list3[::]"
      ],
      "metadata": {
        "colab": {
          "base_uri": "https://localhost:8080/"
        },
        "id": "jR14klhcmQQw",
        "outputId": "db6c9743-47e0-4282-dcfe-d85013388406"
      },
      "execution_count": null,
      "outputs": [
        {
          "output_type": "execute_result",
          "data": {
            "text/plain": [
              "['Mango', 'Apple', 'Banana', 'Pineapple', 'Custard Apple', 'Strawberry']"
            ]
          },
          "metadata": {},
          "execution_count": 82
        }
      ]
    },
    {
      "cell_type": "code",
      "source": [
        "list3.append(\"Mulberry\")"
      ],
      "metadata": {
        "id": "cOlXolITmQSw"
      },
      "execution_count": null,
      "outputs": []
    },
    {
      "cell_type": "code",
      "source": [
        "list3"
      ],
      "metadata": {
        "colab": {
          "base_uri": "https://localhost:8080/"
        },
        "id": "nXxhZ-_CmQU7",
        "outputId": "aa2a0faa-bb1d-4c31-e94b-ead8b6ad7148"
      },
      "execution_count": null,
      "outputs": [
        {
          "output_type": "execute_result",
          "data": {
            "text/plain": [
              "['Mango',\n",
              " 'Apple',\n",
              " 'Banana',\n",
              " 'Pineapple',\n",
              " 'Custard Apple',\n",
              " 'Strawberry',\n",
              " 'Mulberry']"
            ]
          },
          "metadata": {},
          "execution_count": 84
        }
      ]
    },
    {
      "cell_type": "code",
      "source": [
        "for fruit in list3:\n",
        "  if 'berry' in fruit:\n",
        "    print(fruit)"
      ],
      "metadata": {
        "colab": {
          "base_uri": "https://localhost:8080/"
        },
        "id": "WlYy5Hb6mQW-",
        "outputId": "1d920d72-a489-45ab-fbe1-94192fe5c128"
      },
      "execution_count": null,
      "outputs": [
        {
          "output_type": "stream",
          "name": "stdout",
          "text": [
            "Strawberry\n",
            "Mulberry\n"
          ]
        }
      ]
    },
    {
      "cell_type": "code",
      "source": [
        "for fruit in list3:\n",
        "  if 'pple' in fruit:\n",
        "    print(fruit)"
      ],
      "metadata": {
        "colab": {
          "base_uri": "https://localhost:8080/"
        },
        "id": "ZzngHExFmQY0",
        "outputId": "f57229d4-cb49-4ae8-8085-dc2afec05520"
      },
      "execution_count": null,
      "outputs": [
        {
          "output_type": "stream",
          "name": "stdout",
          "text": [
            "Apple\n",
            "Pineapple\n",
            "Custard Apple\n"
          ]
        }
      ]
    },
    {
      "cell_type": "code",
      "source": [
        "list3.append(\"Blackberry\")"
      ],
      "metadata": {
        "id": "4rOiyKaImQbr"
      },
      "execution_count": null,
      "outputs": []
    },
    {
      "cell_type": "code",
      "source": [
        "list4=[]\n",
        "list5=[]\n",
        "list6=[]\n",
        "for fruit in list3:\n",
        "  if 'berry' in fruit:\n",
        "    list4.append(fruit)\n",
        "  elif 'pple' in fruit:\n",
        "    list6.append(fruit)\n",
        "  else:\n",
        "    list5.append(fruit)\n",
        "\n",
        "print(list4, end=\"\")\n",
        "print(list6, end=\"\")\n",
        "print(list5, end=\"\")"
      ],
      "metadata": {
        "colab": {
          "base_uri": "https://localhost:8080/"
        },
        "id": "JluV8W4BqG4h",
        "outputId": "658a1cf8-25f3-4f15-88b3-66fe10d7c12b"
      },
      "execution_count": null,
      "outputs": [
        {
          "output_type": "stream",
          "name": "stdout",
          "text": [
            "['Strawberry', 'Blackberry', 'Mulberry']['Apple', 'Pineapple', 'Custard Apple']['Mango', 'Banana']"
          ]
        }
      ]
    },
    {
      "cell_type": "code",
      "source": [
        "input_string = \"Python\"\n",
        "for i in range(1, len(input_string+1)):\n",
        "  print(i)\n",
        "\n"
      ],
      "metadata": {
        "id": "4mp3KYH-mQf4"
      },
      "execution_count": null,
      "outputs": []
    },
    {
      "cell_type": "code",
      "source": [
        "t1 = (10,30,20,50)"
      ],
      "metadata": {
        "id": "WBCLuDtwevXP"
      },
      "execution_count": null,
      "outputs": []
    },
    {
      "cell_type": "code",
      "source": [
        "t2 = (1,2,3,3,4,5,6 )"
      ],
      "metadata": {
        "id": "EJSyRdI4evZ3"
      },
      "execution_count": null,
      "outputs": []
    },
    {
      "cell_type": "code",
      "source": [
        "t3 = t1+t2"
      ],
      "metadata": {
        "id": "4UgnV9y3evcM"
      },
      "execution_count": null,
      "outputs": []
    },
    {
      "cell_type": "code",
      "source": [
        "t3"
      ],
      "metadata": {
        "colab": {
          "base_uri": "https://localhost:8080/"
        },
        "id": "eWUC9rStevfI",
        "outputId": "af688912-cd87-498c-d338-f9c4c3680016"
      },
      "execution_count": null,
      "outputs": [
        {
          "output_type": "execute_result",
          "data": {
            "text/plain": [
              "(10, 30, 20, 50, 1, 2, 3, 3, 4, 5, 6)"
            ]
          },
          "metadata": {},
          "execution_count": 4
        }
      ]
    },
    {
      "cell_type": "code",
      "source": [
        "t1*3"
      ],
      "metadata": {
        "colab": {
          "base_uri": "https://localhost:8080/"
        },
        "id": "Eg2Qy_p8evh6",
        "outputId": "f1b15461-ac89-4cce-e9a5-d8df1ea18a9b"
      },
      "execution_count": null,
      "outputs": [
        {
          "output_type": "execute_result",
          "data": {
            "text/plain": [
              "(10, 30, 20, 50, 10, 30, 20, 50, 10, 30, 20, 50)"
            ]
          },
          "metadata": {},
          "execution_count": 5
        }
      ]
    },
    {
      "cell_type": "code",
      "source": [
        "dir(t1)"
      ],
      "metadata": {
        "colab": {
          "base_uri": "https://localhost:8080/"
        },
        "id": "mKdvExdBevkj",
        "outputId": "947bb8c3-47d2-4240-ed39-b040e789db2b"
      },
      "execution_count": null,
      "outputs": [
        {
          "output_type": "execute_result",
          "data": {
            "text/plain": [
              "['__add__',\n",
              " '__class__',\n",
              " '__class_getitem__',\n",
              " '__contains__',\n",
              " '__delattr__',\n",
              " '__dir__',\n",
              " '__doc__',\n",
              " '__eq__',\n",
              " '__format__',\n",
              " '__ge__',\n",
              " '__getattribute__',\n",
              " '__getitem__',\n",
              " '__getnewargs__',\n",
              " '__getstate__',\n",
              " '__gt__',\n",
              " '__hash__',\n",
              " '__init__',\n",
              " '__init_subclass__',\n",
              " '__iter__',\n",
              " '__le__',\n",
              " '__len__',\n",
              " '__lt__',\n",
              " '__mul__',\n",
              " '__ne__',\n",
              " '__new__',\n",
              " '__reduce__',\n",
              " '__reduce_ex__',\n",
              " '__repr__',\n",
              " '__rmul__',\n",
              " '__setattr__',\n",
              " '__sizeof__',\n",
              " '__str__',\n",
              " '__subclasshook__',\n",
              " 'count',\n",
              " 'index']"
            ]
          },
          "metadata": {},
          "execution_count": 6
        }
      ]
    },
    {
      "cell_type": "code",
      "source": [
        "t1.count(50)"
      ],
      "metadata": {
        "colab": {
          "base_uri": "https://localhost:8080/"
        },
        "id": "Z_k3niTFevm2",
        "outputId": "3219207e-516d-4cbf-84b2-88d819917171"
      },
      "execution_count": null,
      "outputs": [
        {
          "output_type": "execute_result",
          "data": {
            "text/plain": [
              "1"
            ]
          },
          "metadata": {},
          "execution_count": 8
        }
      ]
    },
    {
      "cell_type": "code",
      "source": [
        "t2.index(3)"
      ],
      "metadata": {
        "colab": {
          "base_uri": "https://localhost:8080/"
        },
        "id": "ydUxxTArevpl",
        "outputId": "2198f902-8b42-4748-cdd2-f5758a8e82d8"
      },
      "execution_count": null,
      "outputs": [
        {
          "output_type": "execute_result",
          "data": {
            "text/plain": [
              "2"
            ]
          },
          "metadata": {},
          "execution_count": 9
        }
      ]
    },
    {
      "cell_type": "code",
      "source": [
        "t2"
      ],
      "metadata": {
        "colab": {
          "base_uri": "https://localhost:8080/"
        },
        "id": "VCY5KYdmevsW",
        "outputId": "79b1ec6a-3dd1-4a7a-f1d2-53e001f65743"
      },
      "execution_count": null,
      "outputs": [
        {
          "output_type": "execute_result",
          "data": {
            "text/plain": [
              "(1, 2, 3, 3, 4, 5, 6)"
            ]
          },
          "metadata": {},
          "execution_count": 10
        }
      ]
    },
    {
      "cell_type": "code",
      "source": [
        "t2.index(1)"
      ],
      "metadata": {
        "colab": {
          "base_uri": "https://localhost:8080/"
        },
        "id": "0NmU7QPHevu_",
        "outputId": "bb29ae26-4107-4b0e-e328-528b6845aa9a"
      },
      "execution_count": null,
      "outputs": [
        {
          "output_type": "execute_result",
          "data": {
            "text/plain": [
              "0"
            ]
          },
          "metadata": {},
          "execution_count": 12
        }
      ]
    },
    {
      "cell_type": "code",
      "source": [
        "t4 = (1,2,3,2,3,4,5,67,55,5,5,5,5)"
      ],
      "metadata": {
        "id": "10Vq25tievxy"
      },
      "execution_count": null,
      "outputs": []
    },
    {
      "cell_type": "code",
      "source": [
        "t4.index(5)"
      ],
      "metadata": {
        "colab": {
          "base_uri": "https://localhost:8080/"
        },
        "id": "uPDvnEx6ev0U",
        "outputId": "3d34bfe7-b173-441f-e789-51c9b060f09f"
      },
      "execution_count": null,
      "outputs": [
        {
          "output_type": "execute_result",
          "data": {
            "text/plain": [
              "6"
            ]
          },
          "metadata": {},
          "execution_count": 14
        }
      ]
    },
    {
      "cell_type": "code",
      "source": [
        "dir(dict)"
      ],
      "metadata": {
        "id": "R26rHeUdqG7I",
        "colab": {
          "base_uri": "https://localhost:8080/"
        },
        "outputId": "4dc0e48a-54ab-49fa-f59f-14dac517c6d9"
      },
      "execution_count": null,
      "outputs": [
        {
          "output_type": "execute_result",
          "data": {
            "text/plain": [
              "['__class__',\n",
              " '__class_getitem__',\n",
              " '__contains__',\n",
              " '__delattr__',\n",
              " '__delitem__',\n",
              " '__dir__',\n",
              " '__doc__',\n",
              " '__eq__',\n",
              " '__format__',\n",
              " '__ge__',\n",
              " '__getattribute__',\n",
              " '__getitem__',\n",
              " '__getstate__',\n",
              " '__gt__',\n",
              " '__hash__',\n",
              " '__init__',\n",
              " '__init_subclass__',\n",
              " '__ior__',\n",
              " '__iter__',\n",
              " '__le__',\n",
              " '__len__',\n",
              " '__lt__',\n",
              " '__ne__',\n",
              " '__new__',\n",
              " '__or__',\n",
              " '__reduce__',\n",
              " '__reduce_ex__',\n",
              " '__repr__',\n",
              " '__reversed__',\n",
              " '__ror__',\n",
              " '__setattr__',\n",
              " '__setitem__',\n",
              " '__sizeof__',\n",
              " '__str__',\n",
              " '__subclasshook__',\n",
              " 'clear',\n",
              " 'copy',\n",
              " 'fromkeys',\n",
              " 'get',\n",
              " 'items',\n",
              " 'keys',\n",
              " 'pop',\n",
              " 'popitem',\n",
              " 'setdefault',\n",
              " 'update',\n",
              " 'values']"
            ]
          },
          "metadata": {},
          "execution_count": 15
        }
      ]
    },
    {
      "cell_type": "code",
      "source": [
        "# Dictionary\n",
        "D1 = {\"India\":\"New Delhi\", \"Nepal\": \"Katmandu\"\n",
        "      }\n"
      ],
      "metadata": {
        "id": "xlAT53Rkev4D"
      },
      "execution_count": null,
      "outputs": []
    },
    {
      "cell_type": "code",
      "source": [
        "d2 = {\"abc\": \"xyz\",\"ashraf\":\"diat_\"}\n",
        "D1.update(d2)"
      ],
      "metadata": {
        "id": "klyp5_lMqG-o"
      },
      "execution_count": null,
      "outputs": []
    },
    {
      "cell_type": "code",
      "source": [
        "D1"
      ],
      "metadata": {
        "id": "slip0-AfmQjO",
        "colab": {
          "base_uri": "https://localhost:8080/"
        },
        "outputId": "21efa49a-9fb6-435b-dec7-30bd4316253a"
      },
      "execution_count": null,
      "outputs": [
        {
          "output_type": "execute_result",
          "data": {
            "text/plain": [
              "{'India': 'New Delhi', 'Nepal': 'Katmandu', 'abc': 'xyz', 'ashraf': 'diat_'}"
            ]
          },
          "metadata": {},
          "execution_count": 21
        }
      ]
    },
    {
      "cell_type": "code",
      "source": [
        "D1.update({\"dads\": \"MLDL\"})"
      ],
      "metadata": {
        "id": "j-oN6H66jP7a"
      },
      "execution_count": null,
      "outputs": []
    },
    {
      "cell_type": "code",
      "source": [
        "D1"
      ],
      "metadata": {
        "colab": {
          "base_uri": "https://localhost:8080/"
        },
        "id": "z2EZU2qzjRyf",
        "outputId": "ebe0eb21-315d-4ed9-8642-b813a359fa96"
      },
      "execution_count": null,
      "outputs": [
        {
          "output_type": "execute_result",
          "data": {
            "text/plain": [
              "{'India': 'New Delhi',\n",
              " 'Nepal': 'Katmandu',\n",
              " 'abc': 'xyz',\n",
              " 'ashraf': 'diat_',\n",
              " 'dads': 'MLDL'}"
            ]
          },
          "metadata": {},
          "execution_count": 23
        }
      ]
    },
    {
      "cell_type": "code",
      "source": [
        "D1.update({\"a\":\"P\", \"m\":\"f\"})\n",
        "D1"
      ],
      "metadata": {
        "colab": {
          "base_uri": "https://localhost:8080/"
        },
        "id": "bgpd_gpNjR0l",
        "outputId": "9e4336e2-da29-490b-ff6c-3f493f672178"
      },
      "execution_count": null,
      "outputs": [
        {
          "output_type": "execute_result",
          "data": {
            "text/plain": [
              "{'India': 'New Delhi',\n",
              " 'Nepal': 'Katmandu',\n",
              " 'abc': 'xyz',\n",
              " 'ashraf': 'diat_',\n",
              " 'dads': 'MLDL',\n",
              " 'a': 'P',\n",
              " 'm': 'f'}"
            ]
          },
          "metadata": {},
          "execution_count": 24
        }
      ]
    },
    {
      "cell_type": "code",
      "source": [
        "D1.pop(\"a\")"
      ],
      "metadata": {
        "colab": {
          "base_uri": "https://localhost:8080/",
          "height": 38
        },
        "id": "PD25x0QZjR3G",
        "outputId": "f33d8ca7-9c09-4e0f-b9ca-255d64fcd84c"
      },
      "execution_count": null,
      "outputs": [
        {
          "output_type": "execute_result",
          "data": {
            "text/plain": [
              "'P'"
            ],
            "application/vnd.google.colaboratory.intrinsic+json": {
              "type": "string"
            }
          },
          "metadata": {},
          "execution_count": 26
        }
      ]
    },
    {
      "cell_type": "code",
      "source": [
        "D1"
      ],
      "metadata": {
        "colab": {
          "base_uri": "https://localhost:8080/"
        },
        "id": "1i1toudJjR7J",
        "outputId": "7ad98cff-7ebc-4925-b2fe-1f31269cb0ab"
      },
      "execution_count": null,
      "outputs": [
        {
          "output_type": "execute_result",
          "data": {
            "text/plain": [
              "{'India': 'New Delhi',\n",
              " 'Nepal': 'Katmandu',\n",
              " 'abc': 'xyz',\n",
              " 'ashraf': 'diat_',\n",
              " 'dads': 'MLDL',\n",
              " 'm': 'f'}"
            ]
          },
          "metadata": {},
          "execution_count": 27
        }
      ]
    },
    {
      "cell_type": "code",
      "source": [
        "D1[\"abc\"]=\"Mumbai\"\n",
        "D1"
      ],
      "metadata": {
        "colab": {
          "base_uri": "https://localhost:8080/"
        },
        "id": "LCk3wrP7jR-A",
        "outputId": "badaaa76-5ad5-4739-cccf-d370fdbb7bce"
      },
      "execution_count": null,
      "outputs": [
        {
          "output_type": "execute_result",
          "data": {
            "text/plain": [
              "{'India': 'New Delhi',\n",
              " 'Nepal': 'Katmandu',\n",
              " 'abc': 'Mumbai',\n",
              " 'ashraf': 'diat_',\n",
              " 'dads': 'MLDL',\n",
              " 'm': 'f'}"
            ]
          },
          "metadata": {},
          "execution_count": 29
        }
      ]
    },
    {
      "cell_type": "code",
      "source": [
        "D1.popitem()"
      ],
      "metadata": {
        "colab": {
          "base_uri": "https://localhost:8080/"
        },
        "id": "90piC5u7jSBh",
        "outputId": "f79ac6d3-2d90-48b0-9b66-4f2193263584"
      },
      "execution_count": null,
      "outputs": [
        {
          "output_type": "execute_result",
          "data": {
            "text/plain": [
              "('m', 'f')"
            ]
          },
          "metadata": {},
          "execution_count": 30
        }
      ]
    },
    {
      "cell_type": "code",
      "source": [
        "D1"
      ],
      "metadata": {
        "colab": {
          "base_uri": "https://localhost:8080/"
        },
        "id": "8ZNtEwBbkSNM",
        "outputId": "c3762edc-e6e6-47f6-987d-0492cb8705d4"
      },
      "execution_count": null,
      "outputs": [
        {
          "output_type": "execute_result",
          "data": {
            "text/plain": [
              "{'India': 'New Delhi',\n",
              " 'Nepal': 'Katmandu',\n",
              " 'abc': 'Mumbai',\n",
              " 'ashraf': 'diat_',\n",
              " 'dads': 'MLDL'}"
            ]
          },
          "metadata": {},
          "execution_count": 31
        }
      ]
    },
    {
      "cell_type": "code",
      "source": [
        "D1['dads']"
      ],
      "metadata": {
        "colab": {
          "base_uri": "https://localhost:8080/",
          "height": 38
        },
        "id": "6Rp_t30Wq7pj",
        "outputId": "e9636166-9d52-4255-852e-f896e2b678dc"
      },
      "execution_count": null,
      "outputs": [
        {
          "output_type": "execute_result",
          "data": {
            "text/plain": [
              "'MLDL'"
            ],
            "application/vnd.google.colaboratory.intrinsic+json": {
              "type": "string"
            }
          },
          "metadata": {},
          "execution_count": 56
        }
      ]
    },
    {
      "cell_type": "code",
      "source": [
        "D1.values(\n",
        "\n",
        ")"
      ],
      "metadata": {
        "colab": {
          "base_uri": "https://localhost:8080/"
        },
        "id": "HND65sqnq7tH",
        "outputId": "e8c844c2-dd57-4b25-f8ae-b00d2ef2ddb2"
      },
      "execution_count": null,
      "outputs": [
        {
          "output_type": "execute_result",
          "data": {
            "text/plain": [
              "dict_values(['New Delhi', 'Katmandu', 'Mumbai', 'diat_', 'MLDL'])"
            ]
          },
          "metadata": {},
          "execution_count": 60
        }
      ]
    },
    {
      "cell_type": "code",
      "source": [
        "list = [\"as\",\"sa\",\"min\",\"max\",\"avg\"]\n",
        "tuple = (10,20,22,30,54,56)\n",
        "\n",
        "my_dict= {\"A\":list, \"B\":tuple, \"C\":D1}\n",
        "my_dict"
      ],
      "metadata": {
        "colab": {
          "base_uri": "https://localhost:8080/"
        },
        "id": "rlEZbfY5kTOy",
        "outputId": "e29aafbf-6de4-4f07-877e-6320e4d21350"
      },
      "execution_count": null,
      "outputs": [
        {
          "output_type": "execute_result",
          "data": {
            "text/plain": [
              "{'A': ['as', 'sa', 'min', 'max', 'avg'],\n",
              " 'B': (10, 20, 22, 30, 54, 56),\n",
              " 'C': {'India': 'New Delhi',\n",
              "  'Nepal': 'Katmandu',\n",
              "  'abc': 'Mumbai',\n",
              "  'ashraf': 'diat_',\n",
              "  'dads': 'MLDL'}}"
            ]
          },
          "metadata": {},
          "execution_count": 32
        }
      ]
    },
    {
      "cell_type": "code",
      "source": [
        "my_dict['C']"
      ],
      "metadata": {
        "colab": {
          "base_uri": "https://localhost:8080/"
        },
        "id": "ZIRB-pKKkWhu",
        "outputId": "d4f59035-1a97-440c-9245-87c2c500848c"
      },
      "execution_count": null,
      "outputs": [
        {
          "output_type": "execute_result",
          "data": {
            "text/plain": [
              "{'India': 'New Delhi',\n",
              " 'Nepal': 'Katmandu',\n",
              " 'abc': 'Mumbai',\n",
              " 'ashraf': 'diat_',\n",
              " 'dads': 'MLDL'}"
            ]
          },
          "metadata": {},
          "execution_count": 34
        }
      ]
    },
    {
      "cell_type": "code",
      "source": [
        "my_dict['B']"
      ],
      "metadata": {
        "colab": {
          "base_uri": "https://localhost:8080/"
        },
        "id": "-cQIN-aGkWkW",
        "outputId": "d47558bf-00be-432d-c7aa-a483ddd895cd"
      },
      "execution_count": null,
      "outputs": [
        {
          "output_type": "execute_result",
          "data": {
            "text/plain": [
              "(10, 20, 22, 30, 54, 56)"
            ]
          },
          "metadata": {},
          "execution_count": 35
        }
      ]
    },
    {
      "cell_type": "code",
      "source": [
        "my_dict['A']"
      ],
      "metadata": {
        "colab": {
          "base_uri": "https://localhost:8080/"
        },
        "id": "A0gbIEGSkWpj",
        "outputId": "60b68025-e4fe-475f-c950-872dc0938f56"
      },
      "execution_count": null,
      "outputs": [
        {
          "output_type": "execute_result",
          "data": {
            "text/plain": [
              "['as', 'sa', 'min', 'max', 'avg']"
            ]
          },
          "metadata": {},
          "execution_count": 36
        }
      ]
    },
    {
      "cell_type": "code",
      "source": [
        "len(my_dict['C'])"
      ],
      "metadata": {
        "colab": {
          "base_uri": "https://localhost:8080/"
        },
        "id": "_a7Dxn25kWuk",
        "outputId": "7524ca03-bd26-46ea-bbf7-ac7289896fde"
      },
      "execution_count": null,
      "outputs": [
        {
          "output_type": "execute_result",
          "data": {
            "text/plain": [
              "5"
            ]
          },
          "metadata": {},
          "execution_count": 37
        }
      ]
    },
    {
      "cell_type": "code",
      "source": [
        "my_dict['A'][2]"
      ],
      "metadata": {
        "colab": {
          "base_uri": "https://localhost:8080/",
          "height": 38
        },
        "id": "GzLMJ2QEkWwy",
        "outputId": "dc53ea8f-67dd-4505-ec5d-7f60ab2d06f7"
      },
      "execution_count": null,
      "outputs": [
        {
          "output_type": "execute_result",
          "data": {
            "text/plain": [
              "'min'"
            ],
            "application/vnd.google.colaboratory.intrinsic+json": {
              "type": "string"
            }
          },
          "metadata": {},
          "execution_count": 40
        }
      ]
    },
    {
      "cell_type": "code",
      "source": [
        "my_dict[\"C\"][\"ashraf\"]"
      ],
      "metadata": {
        "colab": {
          "base_uri": "https://localhost:8080/",
          "height": 38
        },
        "id": "SQ9D2ENmkWyt",
        "outputId": "9d7feb3c-de63-4932-97f6-31c6795ddc4f"
      },
      "execution_count": null,
      "outputs": [
        {
          "output_type": "execute_result",
          "data": {
            "text/plain": [
              "'diat_'"
            ],
            "application/vnd.google.colaboratory.intrinsic+json": {
              "type": "string"
            }
          },
          "metadata": {},
          "execution_count": 41
        }
      ]
    },
    {
      "cell_type": "code",
      "source": [
        "my_dict[\"C\"]['dads']"
      ],
      "metadata": {
        "colab": {
          "base_uri": "https://localhost:8080/",
          "height": 38
        },
        "id": "tEjvW8-xkW1q",
        "outputId": "acc910cc-5aed-4806-db11-0d3b4fbda120"
      },
      "execution_count": null,
      "outputs": [
        {
          "output_type": "execute_result",
          "data": {
            "text/plain": [
              "'MLDL'"
            ],
            "application/vnd.google.colaboratory.intrinsic+json": {
              "type": "string"
            }
          },
          "metadata": {},
          "execution_count": 46
        }
      ]
    },
    {
      "cell_type": "code",
      "source": [
        "my_dict['B'][2]"
      ],
      "metadata": {
        "colab": {
          "base_uri": "https://localhost:8080/"
        },
        "id": "ut5EqGYPkW4f",
        "outputId": "c29e3fc0-f609-4f5b-c240-af00a0634493"
      },
      "execution_count": null,
      "outputs": [
        {
          "output_type": "execute_result",
          "data": {
            "text/plain": [
              "22"
            ]
          },
          "metadata": {},
          "execution_count": 47
        }
      ]
    },
    {
      "cell_type": "code",
      "source": [
        "from math import sqrt\n",
        "sqrt(64)"
      ],
      "metadata": {
        "colab": {
          "base_uri": "https://localhost:8080/"
        },
        "id": "HXj3uQVVkW6l",
        "outputId": "36985f64-2632-4683-e91b-053aef92892a"
      },
      "execution_count": null,
      "outputs": [
        {
          "output_type": "execute_result",
          "data": {
            "text/plain": [
              "8.0"
            ]
          },
          "metadata": {},
          "execution_count": 48
        }
      ]
    },
    {
      "cell_type": "code",
      "source": [
        "from math import factorial\n",
        "factorial(5)"
      ],
      "metadata": {
        "colab": {
          "base_uri": "https://localhost:8080/"
        },
        "id": "TuxE9ux_kW9F",
        "outputId": "c7f719d1-997f-4efc-985b-e77e1991a863"
      },
      "execution_count": null,
      "outputs": [
        {
          "output_type": "execute_result",
          "data": {
            "text/plain": [
              "120"
            ]
          },
          "metadata": {},
          "execution_count": 49
        }
      ]
    },
    {
      "cell_type": "code",
      "source": [
        "from math import *\n",
        "list11 = [5,2,53]\n",
        "prod(list11)\n"
      ],
      "metadata": {
        "colab": {
          "base_uri": "https://localhost:8080/"
        },
        "id": "XFL3kikqkW_z",
        "outputId": "ce46602f-a96b-4144-b25d-14161a056ee0"
      },
      "execution_count": null,
      "outputs": [
        {
          "output_type": "execute_result",
          "data": {
            "text/plain": [
              "530"
            ]
          },
          "metadata": {},
          "execution_count": 50
        }
      ]
    },
    {
      "cell_type": "code",
      "source": [
        "cos(30)"
      ],
      "metadata": {
        "colab": {
          "base_uri": "https://localhost:8080/"
        },
        "id": "wd9ieGgjkXDS",
        "outputId": "9f093a43-7f46-4f20-e590-719b2e05c465"
      },
      "execution_count": null,
      "outputs": [
        {
          "output_type": "execute_result",
          "data": {
            "text/plain": [
              "0.15425144988758405"
            ]
          },
          "metadata": {},
          "execution_count": 51
        }
      ]
    },
    {
      "cell_type": "code",
      "source": [
        "tu=(1,2,3,4,5,10)\n",
        "prod(tu)"
      ],
      "metadata": {
        "colab": {
          "base_uri": "https://localhost:8080/"
        },
        "id": "n9fAmCcAkXPS",
        "outputId": "dd8e89d9-1ff8-42ed-d358-bce662a1daa1"
      },
      "execution_count": null,
      "outputs": [
        {
          "output_type": "execute_result",
          "data": {
            "text/plain": [
              "1200"
            ]
          },
          "metadata": {},
          "execution_count": 52
        }
      ]
    },
    {
      "cell_type": "code",
      "source": [
        "import math\n",
        "l4 = [5,6,4,3,8,9]\n",
        "print(math.prod(l4))"
      ],
      "metadata": {
        "colab": {
          "base_uri": "https://localhost:8080/"
        },
        "id": "N02LEP8pkXSM",
        "outputId": "5b849db1-fa02-483e-fe23-961d14c88ae6"
      },
      "execution_count": null,
      "outputs": [
        {
          "output_type": "stream",
          "name": "stdout",
          "text": [
            "25920\n"
          ]
        }
      ]
    },
    {
      "cell_type": "code",
      "source": [
        "math.sqrt(36)\n",
        "\n"
      ],
      "metadata": {
        "colab": {
          "base_uri": "https://localhost:8080/"
        },
        "id": "kSPuKc3HkXUq",
        "outputId": "d6b23cff-7c82-4472-a8ac-ebd24ec97d7e"
      },
      "execution_count": null,
      "outputs": [
        {
          "output_type": "execute_result",
          "data": {
            "text/plain": [
              "6.0"
            ]
          },
          "metadata": {},
          "execution_count": 54
        }
      ]
    },
    {
      "cell_type": "code",
      "source": [
        "import math as mt\n",
        "tt = (1,5,9,7,8,3)\n",
        "mt.prod(tt)"
      ],
      "metadata": {
        "colab": {
          "base_uri": "https://localhost:8080/"
        },
        "id": "IhSFlZK5kXXp",
        "outputId": "ce1a77ec-54a9-485b-9537-4ab2ce7be343"
      },
      "execution_count": null,
      "outputs": [
        {
          "output_type": "execute_result",
          "data": {
            "text/plain": [
              "7560"
            ]
          },
          "metadata": {},
          "execution_count": 55
        }
      ]
    },
    {
      "cell_type": "code",
      "source": [],
      "metadata": {
        "id": "I7DIUn8UkXbb"
      },
      "execution_count": null,
      "outputs": []
    }
  ]
}